{
 "cells": [
  {
   "cell_type": "code",
   "execution_count": 1,
   "id": "2d6f7335",
   "metadata": {},
   "outputs": [
    {
     "data": {
      "text/plain": [
       "'h:\\\\Personal Projects\\\\Carbon-Footprint-estimation'"
      ]
     },
     "execution_count": 1,
     "metadata": {},
     "output_type": "execute_result"
    }
   ],
   "source": [
    "import os\n",
    "os.chdir('../')\n",
    "%pwd"
   ]
  },
  {
   "cell_type": "code",
   "execution_count": 2,
   "id": "c88542ce",
   "metadata": {},
   "outputs": [],
   "source": [
    "from dataclasses import dataclass\n",
    "from pathlib import Path\n",
    "\n",
    "@dataclass(frozen=True)\n",
    "class ModelTrainerConfig:\n",
    "    root_dir: Path\n",
    "    train_data_path: Path\n",
    "    test_data_path: Path\n",
    "    model_name: str  # e.g., \"XGBoost\"\n",
    "    n_estimators: int\n",
    "    max_depth: int\n",
    "    learning_rate: float\n",
    "    subsample: float\n",
    "    colsample_bytree: float\n",
    "    reg_alpha: float\n",
    "    reg_lambda: float\n",
    "    min_child_weight: int\n",
    "    random_state: int\n",
    "    objective: str\n",
    "    target_column: str\n"
   ]
  },
  {
   "cell_type": "code",
   "execution_count": 3,
   "id": "7d14c11a",
   "metadata": {},
   "outputs": [],
   "source": [
    "from CarbonFootprint.constants import *\n",
    "from CarbonFootprint.utils.common import read_yaml, create_directories"
   ]
  },
  {
   "cell_type": "code",
   "execution_count": 7,
   "id": "03685201",
   "metadata": {},
   "outputs": [],
   "source": [
    "\n",
    "class ConfigurationManager:\n",
    "    def __init__(\n",
    "        self,\n",
    "        config_filepath = CONFIG_FILE_PATH,\n",
    "        params_filepath = PARAMS_FILE_PATH,\n",
    "        schema_filepath = SCHEMA_FILE_PATH):\n",
    "\n",
    "        self.config = read_yaml(config_filepath)\n",
    "        self.params = read_yaml(params_filepath)\n",
    "        self.schema = read_yaml(schema_filepath)\n",
    "\n",
    "        create_directories([self.config.artifacts_root])\n",
    "        \n",
    "    def get_model_trainer_config(self) -> ModelTrainerConfig:\n",
    "        config = self.config.model_trainer\n",
    "        params = self.params.XgBoost\n",
    "        target_column_name = list(self.schema.TARGET_COLUMN.keys())[0]  # Gets \"CarbonEmission\"\n",
    "\n",
    "        create_directories([config.root_dir])\n",
    "\n",
    "        model_trainer_config = ModelTrainerConfig(\n",
    "            root_dir=Path(config.root_dir),\n",
    "            train_data_path=Path(config.train_data_path),\n",
    "            test_data_path=Path(config.test_data_path),\n",
    "            model_name=config.model_name,\n",
    "            n_estimators=params.n_estimators,\n",
    "            max_depth=params.max_depth,\n",
    "            learning_rate=params.learning_rate,\n",
    "            subsample=params.subsample,\n",
    "            colsample_bytree=params.colsample_bytree,\n",
    "            reg_alpha=params.reg_alpha,\n",
    "            reg_lambda=params.reg_lambda,\n",
    "            min_child_weight=params.min_child_weight,\n",
    "            random_state=params.random_state,\n",
    "            objective=params.objective,\n",
    "            target_column=target_column_name\n",
    "        )\n",
    "\n",
    "        return model_trainer_config\n"
   ]
  },
  {
   "cell_type": "code",
   "execution_count": 8,
   "id": "63928e28",
   "metadata": {},
   "outputs": [],
   "source": [
    "import pandas as pd\n",
    "import os\n",
    "from CarbonFootprint import logger\n",
    "from xgboost import XGBRegressor\n",
    "import joblib"
   ]
  },
  {
   "cell_type": "code",
   "execution_count": null,
   "id": "aba77c48",
   "metadata": {},
   "outputs": [],
   "source": [
    "class ModelTrainer:\n",
    "    def __init__(self, config: ModelTrainerConfig):\n",
    "        self.config = config\n",
    "\n",
    "    def train(self):\n",
    "        \n",
    "        train_data = pd.read_csv(self.config.train_data_path)\n",
    "        test_data = pd.read_csv(self.config.test_data_path)\n",
    "\n",
    "        # Split features and target\n",
    "        train_x = train_data.drop([self.config.target_column], axis=1)\n",
    "        test_x = test_data.drop([self.config.target_column], axis=1)\n",
    "        train_y = train_data[self.config.target_column]\n",
    "        test_y = test_data[self.config.target_column]\n",
    "\n",
    "       \n",
    "        model = XGBRegressor(\n",
    "            n_estimators=self.config.n_estimators,\n",
    "            max_depth=self.config.max_depth,\n",
    "            learning_rate=self.config.learning_rate,\n",
    "            subsample=self.config.subsample,\n",
    "            colsample_bytree=self.config.colsample_bytree,\n",
    "            reg_alpha=self.config.reg_alpha,\n",
    "            reg_lambda=self.config.reg_lambda,\n",
    "            min_child_weight=self.config.min_child_weight,\n",
    "            random_state=self.config.random_state,\n",
    "            objective=self.config.objective,\n",
    "        )\n",
    "\n",
    "        \n",
    "        model.fit(train_x, train_y)\n",
    "\n",
    "        # Save the model\n",
    "        joblib.dump(model, os.path.join(self.config.root_dir, self.config.model_name))"
   ]
  },
  {
   "cell_type": "code",
   "execution_count": 10,
   "id": "9875eeca",
   "metadata": {},
   "outputs": [
    {
     "name": "stdout",
     "output_type": "stream",
     "text": [
      "[2025-05-13 21:09:24,843: INFO: common: yaml file: config\\config.yaml loaded successfully]\n",
      "[2025-05-13 21:09:24,845: INFO: common: yaml file: params.yaml loaded successfully]\n",
      "[2025-05-13 21:09:24,846: INFO: common: yaml file: schema.yaml loaded successfully]\n",
      "[2025-05-13 21:09:24,850: INFO: common: created directory at: artifacts]\n",
      "[2025-05-13 21:09:24,853: INFO: common: created directory at: artifacts/model_trainer]\n"
     ]
    }
   ],
   "source": [
    "try:\n",
    "    config = ConfigurationManager()\n",
    "    model_trainer_config = config.get_model_trainer_config()\n",
    "    model_trainer_config = ModelTrainer(config=model_trainer_config)\n",
    "    model_trainer_config.train()\n",
    "except Exception as e:\n",
    "    raise e"
   ]
  },
  {
   "cell_type": "code",
   "execution_count": null,
   "id": "d08fdf6f",
   "metadata": {},
   "outputs": [],
   "source": []
  }
 ],
 "metadata": {
  "kernelspec": {
   "display_name": "mlproj",
   "language": "python",
   "name": "python3"
  },
  "language_info": {
   "codemirror_mode": {
    "name": "ipython",
    "version": 3
   },
   "file_extension": ".py",
   "mimetype": "text/x-python",
   "name": "python",
   "nbconvert_exporter": "python",
   "pygments_lexer": "ipython3",
   "version": "3.12.9"
  }
 },
 "nbformat": 4,
 "nbformat_minor": 5
}
