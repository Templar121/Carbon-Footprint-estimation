{
 "cells": [
  {
   "cell_type": "code",
   "execution_count": 1,
   "id": "4d9123b4",
   "metadata": {},
   "outputs": [
    {
     "data": {
      "text/plain": [
       "'h:\\\\Personal Projects\\\\Carbon-Footprint-estimation'"
      ]
     },
     "execution_count": 1,
     "metadata": {},
     "output_type": "execute_result"
    }
   ],
   "source": [
    "import os\n",
    "os.chdir(\"../\")\n",
    "%pwd"
   ]
  },
  {
   "cell_type": "code",
   "execution_count": 2,
   "id": "90b8e356",
   "metadata": {},
   "outputs": [],
   "source": [
    "import pandas as pd"
   ]
  },
  {
   "cell_type": "code",
   "execution_count": 3,
   "id": "19c57054",
   "metadata": {},
   "outputs": [
    {
     "data": {
      "text/html": [
       "<div>\n",
       "<style scoped>\n",
       "    .dataframe tbody tr th:only-of-type {\n",
       "        vertical-align: middle;\n",
       "    }\n",
       "\n",
       "    .dataframe tbody tr th {\n",
       "        vertical-align: top;\n",
       "    }\n",
       "\n",
       "    .dataframe thead th {\n",
       "        text-align: right;\n",
       "    }\n",
       "</style>\n",
       "<table border=\"1\" class=\"dataframe\">\n",
       "  <thead>\n",
       "    <tr style=\"text-align: right;\">\n",
       "      <th></th>\n",
       "      <th>Body Type</th>\n",
       "      <th>Sex</th>\n",
       "      <th>Diet</th>\n",
       "      <th>How Often Shower</th>\n",
       "      <th>Heating Energy Source</th>\n",
       "      <th>Transport</th>\n",
       "      <th>Social Activity</th>\n",
       "      <th>Monthly Grocery Bill</th>\n",
       "      <th>Frequency of Traveling by Air</th>\n",
       "      <th>Vehicle Monthly Distance Km</th>\n",
       "      <th>Waste Bag Size</th>\n",
       "      <th>Waste Bag Weekly Count</th>\n",
       "      <th>How Long TV PC Daily Hour</th>\n",
       "      <th>How Many New Clothes Monthly</th>\n",
       "      <th>How Long Internet Daily Hour</th>\n",
       "      <th>Energy efficiency</th>\n",
       "      <th>CarbonEmission</th>\n",
       "    </tr>\n",
       "  </thead>\n",
       "  <tbody>\n",
       "    <tr>\n",
       "      <th>0</th>\n",
       "      <td>2</td>\n",
       "      <td>1</td>\n",
       "      <td>3</td>\n",
       "      <td>0</td>\n",
       "      <td>2</td>\n",
       "      <td>0</td>\n",
       "      <td>1</td>\n",
       "      <td>230</td>\n",
       "      <td>3</td>\n",
       "      <td>210</td>\n",
       "      <td>2</td>\n",
       "      <td>4</td>\n",
       "      <td>7</td>\n",
       "      <td>26</td>\n",
       "      <td>1</td>\n",
       "      <td>2</td>\n",
       "      <td>2238</td>\n",
       "    </tr>\n",
       "    <tr>\n",
       "      <th>1</th>\n",
       "      <td>3</td>\n",
       "      <td>1</td>\n",
       "      <td>1</td>\n",
       "      <td>3</td>\n",
       "      <td>1</td>\n",
       "      <td>1</td>\n",
       "      <td>1</td>\n",
       "      <td>114</td>\n",
       "      <td>1</td>\n",
       "      <td>9</td>\n",
       "      <td>3</td>\n",
       "      <td>3</td>\n",
       "      <td>9</td>\n",
       "      <td>38</td>\n",
       "      <td>5</td>\n",
       "      <td>2</td>\n",
       "      <td>1892</td>\n",
       "    </tr>\n",
       "    <tr>\n",
       "      <th>2</th>\n",
       "      <td>2</td>\n",
       "      <td>0</td>\n",
       "      <td>2</td>\n",
       "      <td>2</td>\n",
       "      <td>3</td>\n",
       "      <td>2</td>\n",
       "      <td>0</td>\n",
       "      <td>138</td>\n",
       "      <td>0</td>\n",
       "      <td>2472</td>\n",
       "      <td>0</td>\n",
       "      <td>1</td>\n",
       "      <td>14</td>\n",
       "      <td>47</td>\n",
       "      <td>6</td>\n",
       "      <td>0</td>\n",
       "      <td>2595</td>\n",
       "    </tr>\n",
       "    <tr>\n",
       "      <th>3</th>\n",
       "      <td>2</td>\n",
       "      <td>0</td>\n",
       "      <td>2</td>\n",
       "      <td>1</td>\n",
       "      <td>3</td>\n",
       "      <td>1</td>\n",
       "      <td>2</td>\n",
       "      <td>157</td>\n",
       "      <td>1</td>\n",
       "      <td>74</td>\n",
       "      <td>1</td>\n",
       "      <td>3</td>\n",
       "      <td>20</td>\n",
       "      <td>5</td>\n",
       "      <td>7</td>\n",
       "      <td>0</td>\n",
       "      <td>1074</td>\n",
       "    </tr>\n",
       "    <tr>\n",
       "      <th>4</th>\n",
       "      <td>3</td>\n",
       "      <td>1</td>\n",
       "      <td>1</td>\n",
       "      <td>0</td>\n",
       "      <td>2</td>\n",
       "      <td>2</td>\n",
       "      <td>1</td>\n",
       "      <td>266</td>\n",
       "      <td>2</td>\n",
       "      <td>8457</td>\n",
       "      <td>2</td>\n",
       "      <td>1</td>\n",
       "      <td>3</td>\n",
       "      <td>5</td>\n",
       "      <td>6</td>\n",
       "      <td>1</td>\n",
       "      <td>4743</td>\n",
       "    </tr>\n",
       "  </tbody>\n",
       "</table>\n",
       "</div>"
      ],
      "text/plain": [
       "   Body Type  Sex  Diet  How Often Shower  Heating Energy Source  Transport  \\\n",
       "0          2    1     3                 0                      2          0   \n",
       "1          3    1     1                 3                      1          1   \n",
       "2          2    0     2                 2                      3          2   \n",
       "3          2    0     2                 1                      3          1   \n",
       "4          3    1     1                 0                      2          2   \n",
       "\n",
       "   Social Activity  Monthly Grocery Bill  Frequency of Traveling by Air  \\\n",
       "0                1                   230                              3   \n",
       "1                1                   114                              1   \n",
       "2                0                   138                              0   \n",
       "3                2                   157                              1   \n",
       "4                1                   266                              2   \n",
       "\n",
       "   Vehicle Monthly Distance Km  Waste Bag Size  Waste Bag Weekly Count  \\\n",
       "0                          210               2                       4   \n",
       "1                            9               3                       3   \n",
       "2                         2472               0                       1   \n",
       "3                           74               1                       3   \n",
       "4                         8457               2                       1   \n",
       "\n",
       "   How Long TV PC Daily Hour  How Many New Clothes Monthly  \\\n",
       "0                          7                            26   \n",
       "1                          9                            38   \n",
       "2                         14                            47   \n",
       "3                         20                             5   \n",
       "4                          3                             5   \n",
       "\n",
       "   How Long Internet Daily Hour  Energy efficiency  CarbonEmission  \n",
       "0                             1                  2            2238  \n",
       "1                             5                  2            1892  \n",
       "2                             6                  0            2595  \n",
       "3                             7                  0            1074  \n",
       "4                             6                  1            4743  "
      ]
     },
     "execution_count": 3,
     "metadata": {},
     "output_type": "execute_result"
    }
   ],
   "source": [
    "data = pd.read_csv(\"artifacts/data_ingestion/Carbon.csv\")\n",
    "data.head()"
   ]
  },
  {
   "cell_type": "code",
   "execution_count": 4,
   "id": "dd545ba3",
   "metadata": {},
   "outputs": [
    {
     "data": {
      "text/plain": [
       "Body Type                        int64\n",
       "Sex                              int64\n",
       "Diet                             int64\n",
       "How Often Shower                 int64\n",
       "Heating Energy Source            int64\n",
       "Transport                        int64\n",
       "Social Activity                  int64\n",
       "Monthly Grocery Bill             int64\n",
       "Frequency of Traveling by Air    int64\n",
       "Vehicle Monthly Distance Km      int64\n",
       "Waste Bag Size                   int64\n",
       "Waste Bag Weekly Count           int64\n",
       "How Long TV PC Daily Hour        int64\n",
       "How Many New Clothes Monthly     int64\n",
       "How Long Internet Daily Hour     int64\n",
       "Energy efficiency                int64\n",
       "CarbonEmission                   int64\n",
       "dtype: object"
      ]
     },
     "execution_count": 4,
     "metadata": {},
     "output_type": "execute_result"
    }
   ],
   "source": [
    "data.dtypes"
   ]
  },
  {
   "cell_type": "code",
   "execution_count": 5,
   "id": "80db1724",
   "metadata": {},
   "outputs": [
    {
     "data": {
      "text/plain": [
       "Index(['Body Type', 'Sex', 'Diet', 'How Often Shower', 'Heating Energy Source',\n",
       "       'Transport', 'Social Activity', 'Monthly Grocery Bill',\n",
       "       'Frequency of Traveling by Air', 'Vehicle Monthly Distance Km',\n",
       "       'Waste Bag Size', 'Waste Bag Weekly Count', 'How Long TV PC Daily Hour',\n",
       "       'How Many New Clothes Monthly', 'How Long Internet Daily Hour',\n",
       "       'Energy efficiency', 'CarbonEmission'],\n",
       "      dtype='object')"
      ]
     },
     "execution_count": 5,
     "metadata": {},
     "output_type": "execute_result"
    }
   ],
   "source": [
    "data.columns"
   ]
  },
  {
   "cell_type": "code",
   "execution_count": 6,
   "id": "65fc073b",
   "metadata": {},
   "outputs": [],
   "source": [
    "from dataclasses import dataclass\n",
    "from pathlib import Path\n",
    "\n",
    "\n",
    "@dataclass(frozen=True)\n",
    "class DataValidationConfig:\n",
    "    root_dir: Path\n",
    "    STATUS_FILE: str\n",
    "    unzip_data_dir: Path\n",
    "    all_schema: dict"
   ]
  },
  {
   "cell_type": "code",
   "execution_count": 7,
   "id": "8ae6e3d9",
   "metadata": {},
   "outputs": [],
   "source": [
    "from CarbonFootprint.constants import *\n",
    "from CarbonFootprint.utils.common import read_yaml, create_directories"
   ]
  },
  {
   "cell_type": "code",
   "execution_count": 8,
   "id": "f0cf08dc",
   "metadata": {},
   "outputs": [],
   "source": [
    "class ConfigurationManager:\n",
    "    def __init__(\n",
    "        self,\n",
    "        config_filepath = CONFIG_FILE_PATH,\n",
    "        params_filepath = PARAMS_FILE_PATH,\n",
    "        schema_filepath = SCHEMA_FILE_PATH):\n",
    "\n",
    "        self.config = read_yaml(config_filepath)\n",
    "        self.params = read_yaml(params_filepath)\n",
    "        self.schema = read_yaml(schema_filepath)\n",
    "\n",
    "        create_directories([self.config.artifacts_root])\n",
    "\n",
    "\n",
    "    \n",
    "    def get_data_validation_config(self) -> DataValidationConfig:\n",
    "        config = self.config.data_validation\n",
    "        schema = {}\n",
    "        schema.update(self.schema[\"COLUMNS\"])\n",
    "        schema.update(self.schema[\"TARGET_COLUMN\"])\n",
    "\n",
    "        create_directories([config.root_dir])\n",
    "\n",
    "        data_validation_config = DataValidationConfig(\n",
    "            root_dir=config.root_dir,\n",
    "            STATUS_FILE=config.STATUS_FILE,\n",
    "            unzip_data_dir = config.unzip_data_dir,\n",
    "            all_schema=schema,\n",
    "        )\n",
    "\n",
    "        return data_validation_config"
   ]
  },
  {
   "cell_type": "code",
   "execution_count": 9,
   "id": "1152d8f3",
   "metadata": {},
   "outputs": [],
   "source": [
    "import os\n",
    "from CarbonFootprint import logger"
   ]
  },
  {
   "cell_type": "code",
   "execution_count": 10,
   "id": "83f080a5",
   "metadata": {},
   "outputs": [],
   "source": [
    "class DataValiadtion:\n",
    "    def __init__(self, config: DataValidationConfig):\n",
    "        self.config = config\n",
    "\n",
    "\n",
    "    def validate_all_columns(self)-> bool:\n",
    "        try:\n",
    "            validation_status = None\n",
    "\n",
    "            data = pd.read_csv(self.config.unzip_data_dir)\n",
    "            all_cols = list(data.columns)\n",
    "\n",
    "            all_schema = self.config.all_schema.keys()\n",
    "\n",
    "            \n",
    "            for col in all_cols:\n",
    "                if col not in all_schema:\n",
    "                    validation_status = False\n",
    "                    with open(self.config.STATUS_FILE, 'w') as f:\n",
    "                        f.write(f\"Validation status: {validation_status}\")\n",
    "                else:\n",
    "                    validation_status = True\n",
    "                    with open(self.config.STATUS_FILE, 'w') as f:\n",
    "                        f.write(f\"Validation status: {validation_status}\")\n",
    "\n",
    "            return validation_status\n",
    "        \n",
    "        except Exception as e:\n",
    "            raise e"
   ]
  },
  {
   "cell_type": "code",
   "execution_count": 11,
   "id": "43f33af9",
   "metadata": {},
   "outputs": [
    {
     "name": "stdout",
     "output_type": "stream",
     "text": [
      "[2025-05-13 11:03:20,164: INFO: common: yaml file: config\\config.yaml loaded successfully]\n",
      "[2025-05-13 11:03:20,167: INFO: common: yaml file: params.yaml loaded successfully]\n",
      "[2025-05-13 11:03:20,168: INFO: common: yaml file: schema.yaml loaded successfully]\n",
      "[2025-05-13 11:03:20,168: INFO: common: created directory at: artifacts]\n",
      "[2025-05-13 11:03:20,168: INFO: common: created directory at: artifacts/data_validation]\n"
     ]
    }
   ],
   "source": [
    "try:\n",
    "    config = ConfigurationManager()\n",
    "    data_validation_config = config.get_data_validation_config()\n",
    "    data_validation = DataValiadtion(config=data_validation_config)\n",
    "    data_validation.validate_all_columns()\n",
    "except Exception as e:\n",
    "    raise e"
   ]
  },
  {
   "cell_type": "code",
   "execution_count": null,
   "id": "599c571a",
   "metadata": {},
   "outputs": [],
   "source": []
  }
 ],
 "metadata": {
  "kernelspec": {
   "display_name": "mlproj",
   "language": "python",
   "name": "python3"
  },
  "language_info": {
   "codemirror_mode": {
    "name": "ipython",
    "version": 3
   },
   "file_extension": ".py",
   "mimetype": "text/x-python",
   "name": "python",
   "nbconvert_exporter": "python",
   "pygments_lexer": "ipython3",
   "version": "3.12.9"
  }
 },
 "nbformat": 4,
 "nbformat_minor": 5
}
